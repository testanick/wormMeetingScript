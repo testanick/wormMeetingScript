{
 "cells": [
  {
   "cell_type": "code",
   "execution_count": 17,
   "metadata": {
    "collapsed": true
   },
   "outputs": [],
   "source": [
    "from bs4 import BeautifulSoup\n",
    "import requests\n",
    "import pandas as pd\n",
    "from string import ascii_lowercase\n",
    "#for c in ascii_lowercase:\n",
    "data = {\n",
    "       \"Presenter's Name\" : [],\n",
    "       'Partial Abstract Title' : [],\n",
    "       'Session Assignment' : [],\n",
    "       'Program #' : [],\n",
    "       'Session Dates and Locations' : [],\n",
    "       'Presentation Time' : [],\n",
    "       'Session Type' : [],\n",
    "       'Primary Session' : [],\n",
    "       'Secondary Session' : []\n",
    "        }\n",
    "PresenterData = pd.DataFrame( data )"
   ]
  },
  {
   "cell_type": "code",
   "execution_count": 21,
   "metadata": {},
   "outputs": [],
   "source": [
    "\n",
    "for c in ascii_lowercase:\n",
    "    url = \"http://www.genetics-gsa.org/celegans/2017/abs-assignments/\" + c.upper() + \".shtml\"\n",
    "    r = requests.get(url)\n",
    "    data = r.text\n",
    "    soup = BeautifulSoup(data, \"html5lib\")\n",
    "    \n",
    "    #table = soup.find_all('table')[6]\n",
    "    #rows = table.find_all('tr')[12:] #looks like there are 12 instances of 'tr' above the actual table\n",
    "\n",
    "    rows = soup.find(\"table\", border=1).find(\"tbody\").find_all(\"tr\") #does same as above, but more efficiently\n",
    "    #print(rows)\n",
    "    data = {\n",
    "        \"Presenter's Name\" : [],\n",
    "        'Partial Abstract Title' : [],\n",
    "        'Session Assignment' : [],\n",
    "        'Program #' : [],\n",
    "        'Session Dates and Locations' : [],\n",
    "        'Presentation Time' : [],\n",
    "        'Session Type' : [],\n",
    "        'Primary Session' : [],\n",
    "        'Secondary Session' : []\n",
    "    }\n",
    "    \n",
    "    for row in rows:\n",
    "        cols = row.find_all(\"td\")\n",
    "        data[\"Presenter's Name\"].append( cols[0].get_text() )\n",
    "        data['Partial Abstract Title'].append( cols[1].get_text() )\n",
    "        data['Session Assignment'].append( cols[2].get_text() )\n",
    "        data['Program #'].append( cols[3].get_text() )\n",
    "        data['Session Dates and Locations'].append( cols[4].get_text() )\n",
    "        data['Presentation Time'].append( cols[5].get_text() )\n",
    "    \n",
    "    \n",
    "    for line in data['Session Assignment']: \n",
    "        data['Session Type'].append(line.split(\"\\n\")[0] )\n",
    "        info = line.split(\"\\n\")[1] \n",
    "        if info.find('-') > 0:\n",
    "            data['Primary Session'].append(info.split(\" - \")[0] )\n",
    "            data['Secondary Session'].append(info.split(\" - \")[1] )\n",
    "        else:\n",
    "            data['Primary Session'].append(info)\n",
    "            data['Secondary Session'].append(info)\n",
    "        \n",
    "    PresenterData2 = pd.DataFrame( data )\n",
    "    PresenterData = PresenterData.append(PresenterData2)"
   ]
  },
  {
   "cell_type": "code",
   "execution_count": 24,
   "metadata": {
    "collapsed": true
   },
   "outputs": [],
   "source": [
    "PresenterData.to_csv(\"~/Documents/PresenterData.csv\")\n"
   ]
  },
  {
   "cell_type": "code",
   "execution_count": null,
   "metadata": {
    "collapsed": true
   },
   "outputs": [],
   "source": []
  }
 ],
 "metadata": {
  "kernelspec": {
   "display_name": "Python 3",
   "language": "python",
   "name": "python3"
  },
  "language_info": {
   "codemirror_mode": {
    "name": "ipython",
    "version": 3
   },
   "file_extension": ".py",
   "mimetype": "text/x-python",
   "name": "python",
   "nbconvert_exporter": "python",
   "pygments_lexer": "ipython3",
   "version": "3.5.3"
  }
 },
 "nbformat": 4,
 "nbformat_minor": 2
}
